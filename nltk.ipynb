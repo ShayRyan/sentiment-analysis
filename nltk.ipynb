{
 "cells": [
  {
   "cell_type": "code",
   "id": "initial_id",
   "metadata": {
    "collapsed": true,
    "ExecuteTime": {
     "end_time": "2024-06-15T12:42:44.592191Z",
     "start_time": "2024-06-15T12:42:44.496077Z"
    }
   },
   "source": [
    "import pandas as pd\n",
    "import numpy as np\n",
    "import matplotlib.pyplot as plt\n",
    "import seaborn as sns\n",
    "\n",
    "plt.style.use('ggplot')\n",
    "\n",
    "import nltk"
   ],
   "outputs": [],
   "execution_count": 1
  },
  {
   "metadata": {
    "ExecuteTime": {
     "end_time": "2024-06-16T00:16:40.556566Z",
     "start_time": "2024-06-16T00:16:40.553200Z"
    }
   },
   "cell_type": "code",
   "source": "print(plt.style.available)",
   "id": "c960aac4333e7e41",
   "outputs": [
    {
     "name": "stdout",
     "output_type": "stream",
     "text": [
      "['Solarize_Light2', '_classic_test_patch', '_mpl-gallery', '_mpl-gallery-nogrid', 'bmh', 'classic', 'dark_background', 'fast', 'fivethirtyeight', 'ggplot', 'grayscale', 'seaborn-v0_8', 'seaborn-v0_8-bright', 'seaborn-v0_8-colorblind', 'seaborn-v0_8-dark', 'seaborn-v0_8-dark-palette', 'seaborn-v0_8-darkgrid', 'seaborn-v0_8-deep', 'seaborn-v0_8-muted', 'seaborn-v0_8-notebook', 'seaborn-v0_8-paper', 'seaborn-v0_8-pastel', 'seaborn-v0_8-poster', 'seaborn-v0_8-talk', 'seaborn-v0_8-ticks', 'seaborn-v0_8-white', 'seaborn-v0_8-whitegrid', 'tableau-colorblind10']\n"
     ]
    }
   ],
   "execution_count": 35
  },
  {
   "metadata": {},
   "cell_type": "markdown",
   "source": "# Loading",
   "id": "73f10a3325d45c98"
  },
  {
   "metadata": {
    "ExecuteTime": {
     "end_time": "2024-06-15T12:42:57.307859Z",
     "start_time": "2024-06-15T12:42:48.322026Z"
    }
   },
   "cell_type": "code",
   "source": "df = pd.read_csv('/Volumes/home/ML_DL_AI/data_sets/AmazonFineFoodReviews.csv')",
   "id": "6ac9117051816b28",
   "outputs": [],
   "execution_count": 2
  },
  {
   "metadata": {
    "ExecuteTime": {
     "end_time": "2024-06-15T12:42:59.280419Z",
     "start_time": "2024-06-15T12:42:59.227094Z"
    }
   },
   "cell_type": "code",
   "source": [
    "# downsize for quick check\n",
    "df = df.sample(1000)\n",
    "df = df.reset_index(drop=True)\n",
    "df.shape"
   ],
   "id": "28aecc16a95fb65b",
   "outputs": [
    {
     "data": {
      "text/plain": [
       "(1000, 10)"
      ]
     },
     "execution_count": 3,
     "metadata": {},
     "output_type": "execute_result"
    }
   ],
   "execution_count": 3
  },
  {
   "metadata": {
    "ExecuteTime": {
     "end_time": "2024-06-15T12:43:01.199568Z",
     "start_time": "2024-06-15T12:43:01.197959Z"
    }
   },
   "cell_type": "code",
   "source": "",
   "id": "6cba70301c0cf76",
   "outputs": [],
   "execution_count": 3
  },
  {
   "metadata": {
    "ExecuteTime": {
     "end_time": "2024-06-15T12:43:02.227039Z",
     "start_time": "2024-06-15T12:43:02.221713Z"
    }
   },
   "cell_type": "code",
   "source": "df.head()",
   "id": "88ac7d32d9edcdb4",
   "outputs": [
    {
     "data": {
      "text/plain": [
       "       Id   ProductId          UserId                    ProfileName  \\\n",
       "0  263052  B006N3HYYS   ALQOBPDEIGKPJ                          Kitty   \n",
       "1  167675  B006BXUZVO   ALE3ORJUOOAHV  Noneofyourbiz \"noneofyourbiz\"   \n",
       "2  328857  B0010XV4BK  A2T3I3KKTOHQNF                          marys   \n",
       "3  354498  B000G18NR0  A3N94EX7EQNWWN                        M. Carr   \n",
       "4  227783  B0033HPPIO  A1JS5YEH6J0PUG                         Connie   \n",
       "\n",
       "   HelpfulnessNumerator  HelpfulnessDenominator  Score        Time  \\\n",
       "0                     2                       2      4  1244592000   \n",
       "1                     0                       1      4  1335398400   \n",
       "2                     0                       0      1  1338681600   \n",
       "3                     0                       0      4  1290729600   \n",
       "4                     2                       4      1  1297036800   \n",
       "\n",
       "                             Summary  \\\n",
       "0  Excellent for bold coffee lovers!   \n",
       "1                           Love it!   \n",
       "2             Don't Waste Your Money   \n",
       "3                     Healthy Eating   \n",
       "4                  worst coffee ever   \n",
       "\n",
       "                                                Text  \n",
       "0  I love dark, strong coffee and this is one of ...  \n",
       "1  It's sweet, very sweet. And I think that's a g...  \n",
       "2  I should have paid more attention to the other...  \n",
       "3  Eating healthy is very important to me.  Amy's...  \n",
       "4  Was so disappointed in this coffee.  I gave se...  "
      ],
      "text/html": [
       "<div>\n",
       "<style scoped>\n",
       "    .dataframe tbody tr th:only-of-type {\n",
       "        vertical-align: middle;\n",
       "    }\n",
       "\n",
       "    .dataframe tbody tr th {\n",
       "        vertical-align: top;\n",
       "    }\n",
       "\n",
       "    .dataframe thead th {\n",
       "        text-align: right;\n",
       "    }\n",
       "</style>\n",
       "<table border=\"1\" class=\"dataframe\">\n",
       "  <thead>\n",
       "    <tr style=\"text-align: right;\">\n",
       "      <th></th>\n",
       "      <th>Id</th>\n",
       "      <th>ProductId</th>\n",
       "      <th>UserId</th>\n",
       "      <th>ProfileName</th>\n",
       "      <th>HelpfulnessNumerator</th>\n",
       "      <th>HelpfulnessDenominator</th>\n",
       "      <th>Score</th>\n",
       "      <th>Time</th>\n",
       "      <th>Summary</th>\n",
       "      <th>Text</th>\n",
       "    </tr>\n",
       "  </thead>\n",
       "  <tbody>\n",
       "    <tr>\n",
       "      <th>0</th>\n",
       "      <td>263052</td>\n",
       "      <td>B006N3HYYS</td>\n",
       "      <td>ALQOBPDEIGKPJ</td>\n",
       "      <td>Kitty</td>\n",
       "      <td>2</td>\n",
       "      <td>2</td>\n",
       "      <td>4</td>\n",
       "      <td>1244592000</td>\n",
       "      <td>Excellent for bold coffee lovers!</td>\n",
       "      <td>I love dark, strong coffee and this is one of ...</td>\n",
       "    </tr>\n",
       "    <tr>\n",
       "      <th>1</th>\n",
       "      <td>167675</td>\n",
       "      <td>B006BXUZVO</td>\n",
       "      <td>ALE3ORJUOOAHV</td>\n",
       "      <td>Noneofyourbiz \"noneofyourbiz\"</td>\n",
       "      <td>0</td>\n",
       "      <td>1</td>\n",
       "      <td>4</td>\n",
       "      <td>1335398400</td>\n",
       "      <td>Love it!</td>\n",
       "      <td>It's sweet, very sweet. And I think that's a g...</td>\n",
       "    </tr>\n",
       "    <tr>\n",
       "      <th>2</th>\n",
       "      <td>328857</td>\n",
       "      <td>B0010XV4BK</td>\n",
       "      <td>A2T3I3KKTOHQNF</td>\n",
       "      <td>marys</td>\n",
       "      <td>0</td>\n",
       "      <td>0</td>\n",
       "      <td>1</td>\n",
       "      <td>1338681600</td>\n",
       "      <td>Don't Waste Your Money</td>\n",
       "      <td>I should have paid more attention to the other...</td>\n",
       "    </tr>\n",
       "    <tr>\n",
       "      <th>3</th>\n",
       "      <td>354498</td>\n",
       "      <td>B000G18NR0</td>\n",
       "      <td>A3N94EX7EQNWWN</td>\n",
       "      <td>M. Carr</td>\n",
       "      <td>0</td>\n",
       "      <td>0</td>\n",
       "      <td>4</td>\n",
       "      <td>1290729600</td>\n",
       "      <td>Healthy Eating</td>\n",
       "      <td>Eating healthy is very important to me.  Amy's...</td>\n",
       "    </tr>\n",
       "    <tr>\n",
       "      <th>4</th>\n",
       "      <td>227783</td>\n",
       "      <td>B0033HPPIO</td>\n",
       "      <td>A1JS5YEH6J0PUG</td>\n",
       "      <td>Connie</td>\n",
       "      <td>2</td>\n",
       "      <td>4</td>\n",
       "      <td>1</td>\n",
       "      <td>1297036800</td>\n",
       "      <td>worst coffee ever</td>\n",
       "      <td>Was so disappointed in this coffee.  I gave se...</td>\n",
       "    </tr>\n",
       "  </tbody>\n",
       "</table>\n",
       "</div>"
      ]
     },
     "execution_count": 4,
     "metadata": {},
     "output_type": "execute_result"
    }
   ],
   "execution_count": 4
  },
  {
   "metadata": {
    "ExecuteTime": {
     "end_time": "2024-06-15T12:43:04.222359Z",
     "start_time": "2024-06-15T12:43:04.218739Z"
    }
   },
   "cell_type": "code",
   "source": [
    "# Exploratory Data Analysis (EDA)\n",
    "df.columns\n"
   ],
   "id": "50014287f6d9f3db",
   "outputs": [
    {
     "data": {
      "text/plain": [
       "Index(['Id', 'ProductId', 'UserId', 'ProfileName', 'HelpfulnessNumerator',\n",
       "       'HelpfulnessDenominator', 'Score', 'Time', 'Summary', 'Text'],\n",
       "      dtype='object')"
      ]
     },
     "execution_count": 5,
     "metadata": {},
     "output_type": "execute_result"
    }
   ],
   "execution_count": 5
  },
  {
   "metadata": {
    "ExecuteTime": {
     "end_time": "2024-06-15T12:43:06.044123Z",
     "start_time": "2024-06-15T12:43:05.954457Z"
    }
   },
   "cell_type": "code",
   "source": [
    "ax = df['Score'].value_counts().sort_index().plot(kind='bar',\n",
    "                                                  title='Count of Reviews by Stars',\n",
    "                                                  figsize=(10, 5))\n",
    "ax.set_ylabel('Number of Reviews')\n",
    "ax.set_xlabel('Review Stars')\n",
    "plt.show()"
   ],
   "id": "6b71f60406b0ecdd",
   "outputs": [
    {
     "data": {
      "text/plain": [
       "<Figure size 1000x500 with 1 Axes>"
      ],
      "image/png": "[encoded data removed]"
     },
     "metadata": {},
     "output_type": "display_data"
    }
   ],
   "execution_count": 6
  },
  {
   "metadata": {},
   "cell_type": "markdown",
   "source": "# Basic NLTK",
   "id": "bdd986409827455c"
  },
  {
   "metadata": {
    "ExecuteTime": {
     "end_time": "2024-06-15T12:43:09.466757Z",
     "start_time": "2024-06-15T12:43:09.463905Z"
    }
   },
   "cell_type": "code",
   "source": [
    "example = df['Text'][50]\n",
    "example"
   ],
   "id": "1220283530b80bff",
   "outputs": [
    {
     "data": {
      "text/plain": [
       "\"I ordered this along with Cafix and Roastaroma to try the three. I'm a former Postum aficionado and had certainly developed quite a liking to Postum.<br /><br />Really can't take Pero Extra very much. I keep trying it again and again, prolly 10 times now, to see if I can develop a liking for it and just can't. I'm sure some people may like it, but it's just not for me.<br /><br />Cafix is what I'll usually go for, but it has a certain sort of built in sweetness (very mild, barely distinguishable)which comes from the beets that are added. Over time I've found it just sort of fills in some of the void from lack of Postum, and while it's not a Postum replica it has certain Postum like qualities.<br /><br />The Roastaroma actually is what I think tastes the best of the three, but it's taste is just not at all like Postum, is however very balanced and has a nice maltiness to it. Often I'll put just a little bit of Stevia powder in it. (I could always tell if I've ingested aspartame by (or nutrasweet, whatever) by how I felt, and try to verify any food/drink I ingest doesn't have aspartame. I mean, an item which arose out of research into nerve agents for warfare, and itself found to be an effective weapon, really shouldn't be passed off as a food item. Stevia is ground plant matter, even less processed that sugar.)The combo makes a really nice morning or late evening drink.\""
      ]
     },
     "execution_count": 7,
     "metadata": {},
     "output_type": "execute_result"
    }
   ],
   "execution_count": 7
  },
  {
   "metadata": {
    "ExecuteTime": {
     "end_time": "2024-06-15T12:43:14.726402Z",
     "start_time": "2024-06-15T12:43:14.241202Z"
    }
   },
   "cell_type": "code",
   "source": [
    "# This only needs to be run once!\n",
    "# nltk.download('punkt')"
   ],
   "id": "d224464b56934c13",
   "outputs": [
    {
     "name": "stderr",
     "output_type": "stream",
     "text": [
      "[nltk_data] Downloading package punkt to /Users/shay/nltk_data...\n",
      "[nltk_data]   Unzipping tokenizers/punkt.zip.\n"
     ]
    },
    {
     "data": {
      "text/plain": [
       "True"
      ]
     },
     "execution_count": 8,
     "metadata": {},
     "output_type": "execute_result"
    }
   ],
   "execution_count": 8
  },
  {
   "metadata": {
    "ExecuteTime": {
     "end_time": "2024-06-15T13:20:19.409048Z",
     "start_time": "2024-06-15T13:20:19.402839Z"
    }
   },
   "cell_type": "code",
   "source": [
    "# exploring NLTK\n",
    "tokens = nltk.word_tokenize(example)\n",
    "tokens[:10]"
   ],
   "id": "d71b1fe8ed406d6b",
   "outputs": [
    {
     "data": {
      "text/plain": [
       "['I',\n",
       " 'ordered',\n",
       " 'this',\n",
       " 'along',\n",
       " 'with',\n",
       " 'Cafix',\n",
       " 'and',\n",
       " 'Roastaroma',\n",
       " 'to',\n",
       " 'try']"
      ]
     },
     "execution_count": 10,
     "metadata": {},
     "output_type": "execute_result"
    }
   ],
   "execution_count": 10
  },
  {
   "metadata": {
    "ExecuteTime": {
     "end_time": "2024-06-15T13:22:50.461189Z",
     "start_time": "2024-06-15T13:22:50.260890Z"
    }
   },
   "cell_type": "code",
   "source": [
    "# download NLTK resource\n",
    "nltk.download('averaged_perceptron_tagger')"
   ],
   "id": "f29f5e3fc321f7ad",
   "outputs": [
    {
     "name": "stderr",
     "output_type": "stream",
     "text": [
      "[nltk_data] Downloading package averaged_perceptron_tagger to\n",
      "[nltk_data]     /Users/shay/nltk_data...\n",
      "[nltk_data]   Unzipping taggers/averaged_perceptron_tagger.zip.\n"
     ]
    },
    {
     "data": {
      "text/plain": [
       "True"
      ]
     },
     "execution_count": 12,
     "metadata": {},
     "output_type": "execute_result"
    }
   ],
   "execution_count": 12
  },
  {
   "metadata": {
    "ExecuteTime": {
     "end_time": "2024-06-15T13:33:10.123649Z",
     "start_time": "2024-06-15T13:33:10.087015Z"
    }
   },
   "cell_type": "code",
   "source": [
    "# Part Of Speech\n",
    "# https://en.wikipedia.org/wiki/Part-of-speech_tagging\n",
    "# https://www.ling.upenn.edu/courses/Fall_2003/ling001/penn_treebank_pos.html\n",
    "# https://www.guru99.com/pos-tagging-chunking-nltk.html\n",
    "tagged = nltk.pos_tag(tokens)\n",
    "tagged[:10]"
   ],
   "id": "b66ddffbb462231a",
   "outputs": [
    {
     "data": {
      "text/plain": [
       "[('I', 'PRP'),\n",
       " ('ordered', 'VBD'),\n",
       " ('this', 'DT'),\n",
       " ('along', 'IN'),\n",
       " ('with', 'IN'),\n",
       " ('Cafix', 'NNP'),\n",
       " ('and', 'CC'),\n",
       " ('Roastaroma', 'NNP'),\n",
       " ('to', 'TO'),\n",
       " ('try', 'VB')]"
      ]
     },
     "execution_count": 14,
     "metadata": {},
     "output_type": "execute_result"
    }
   ],
   "execution_count": 14
  },
  {
   "metadata": {
    "ExecuteTime": {
     "end_time": "2024-06-15T13:36:33.873340Z",
     "start_time": "2024-06-15T13:36:33.443912Z"
    }
   },
   "cell_type": "code",
   "source": "nltk.download('maxent_ne_chunker')",
   "id": "a76a4aa0953d8e57",
   "outputs": [
    {
     "name": "stderr",
     "output_type": "stream",
     "text": [
      "[nltk_data] Downloading package maxent_ne_chunker to\n",
      "[nltk_data]     /Users/shay/nltk_data...\n",
      "[nltk_data]   Unzipping chunkers/maxent_ne_chunker.zip.\n"
     ]
    },
    {
     "data": {
      "text/plain": [
       "True"
      ]
     },
     "execution_count": 16,
     "metadata": {},
     "output_type": "execute_result"
    }
   ],
   "execution_count": 16
  },
  {
   "metadata": {
    "ExecuteTime": {
     "end_time": "2024-06-15T13:36:51.410936Z",
     "start_time": "2024-06-15T13:36:51.377083Z"
    }
   },
   "cell_type": "code",
   "source": [
    "# put tags into entities\n",
    "# grouping\n",
    "entities = nltk.chunk.ne_chunk(tagged)\n",
    "#entities.pprint()"
   ],
   "id": "1bf5839b1a1e3429",
   "outputs": [
    {
     "name": "stdout",
     "output_type": "stream",
     "text": [
      "(S\n",
      "  I/PRP\n",
      "  ordered/VBD\n",
      "  this/DT\n",
      "  along/IN\n",
      "  with/IN\n",
      "  (PERSON Cafix/NNP)\n",
      "  and/CC\n",
      "  (GPE Roastaroma/NNP)\n",
      "  to/TO\n",
      "  try/VB\n",
      "  the/DT\n",
      "  three/CD\n",
      "  ./.\n",
      "  I/PRP\n",
      "  'm/VBP\n",
      "  a/DT\n",
      "  former/JJ\n",
      "  (GPE Postum/NNP)\n",
      "  aficionado/NN\n",
      "  and/CC\n",
      "  had/VBD\n",
      "  certainly/RB\n",
      "  developed/VBN\n",
      "  quite/RB\n",
      "  a/DT\n",
      "  liking/NN\n",
      "  to/TO\n",
      "  Postum./NNP\n",
      "  </NNP\n",
      "  br/NN\n",
      "  //NNP\n",
      "  >/NNP\n",
      "  </NNP\n",
      "  br/NN\n",
      "  //NNP\n",
      "  >/NNP\n",
      "  Really/NNP\n",
      "  ca/MD\n",
      "  n't/RB\n",
      "  take/VB\n",
      "  (PERSON Pero/NNP Extra/NNP)\n",
      "  very/RB\n",
      "  much/RB\n",
      "  ./.\n",
      "  I/PRP\n",
      "  keep/VBP\n",
      "  trying/VBG\n",
      "  it/PRP\n",
      "  again/RB\n",
      "  and/CC\n",
      "  again/RB\n",
      "  ,/,\n",
      "  prolly/RB\n",
      "  10/CD\n",
      "  times/NNS\n",
      "  now/RB\n",
      "  ,/,\n",
      "  to/TO\n",
      "  see/VB\n",
      "  if/IN\n",
      "  I/PRP\n",
      "  can/MD\n",
      "  develop/VB\n",
      "  a/DT\n",
      "  liking/NN\n",
      "  for/IN\n",
      "  it/PRP\n",
      "  and/CC\n",
      "  just/RB\n",
      "  ca/MD\n",
      "  n't/RB\n",
      "  ./.\n",
      "  I/PRP\n",
      "  'm/VBP\n",
      "  sure/JJ\n",
      "  some/DT\n",
      "  people/NNS\n",
      "  may/MD\n",
      "  like/VB\n",
      "  it/PRP\n",
      "  ,/,\n",
      "  but/CC\n",
      "  it/PRP\n",
      "  's/VBZ\n",
      "  just/RB\n",
      "  not/RB\n",
      "  for/IN\n",
      "  me./NN\n",
      "  </NNP\n",
      "  br/NN\n",
      "  //NNP\n",
      "  >/NNP\n",
      "  </NNP\n",
      "  br/NN\n",
      "  //NNP\n",
      "  >/NNP\n",
      "  Cafix/NNP\n",
      "  is/VBZ\n",
      "  what/WP\n",
      "  I/PRP\n",
      "  'll/MD\n",
      "  usually/RB\n",
      "  go/VB\n",
      "  for/IN\n",
      "  ,/,\n",
      "  but/CC\n",
      "  it/PRP\n",
      "  has/VBZ\n",
      "  a/DT\n",
      "  certain/JJ\n",
      "  sort/NN\n",
      "  of/IN\n",
      "  built/VBN\n",
      "  in/IN\n",
      "  sweetness/NN\n",
      "  (/(\n",
      "  very/RB\n",
      "  mild/RB\n",
      "  ,/,\n",
      "  barely/RB\n",
      "  distinguishable/JJ\n",
      "  )/)\n",
      "  which/WDT\n",
      "  comes/VBZ\n",
      "  from/IN\n",
      "  the/DT\n",
      "  beets/NNS\n",
      "  that/WDT\n",
      "  are/VBP\n",
      "  added/VBN\n",
      "  ./.\n",
      "  Over/IN\n",
      "  time/NN\n",
      "  I/PRP\n",
      "  've/VBP\n",
      "  found/VBN\n",
      "  it/PRP\n",
      "  just/RB\n",
      "  sort/NN\n",
      "  of/IN\n",
      "  fills/NNS\n",
      "  in/IN\n",
      "  some/DT\n",
      "  of/IN\n",
      "  the/DT\n",
      "  void/NN\n",
      "  from/IN\n",
      "  lack/NN\n",
      "  of/IN\n",
      "  (GPE Postum/NNP)\n",
      "  ,/,\n",
      "  and/CC\n",
      "  while/IN\n",
      "  it/PRP\n",
      "  's/VBZ\n",
      "  not/RB\n",
      "  a/DT\n",
      "  (GPE Postum/NNP)\n",
      "  replica/NN\n",
      "  it/PRP\n",
      "  has/VBZ\n",
      "  certain/JJ\n",
      "  Postum/NNP\n",
      "  like/IN\n",
      "  qualities./NN\n",
      "  </NNP\n",
      "  br/NN\n",
      "  //NNP\n",
      "  >/NNP\n",
      "  </NNP\n",
      "  br/NN\n",
      "  //NNP\n",
      "  >/VBZ\n",
      "  The/DT\n",
      "  (ORGANIZATION Roastaroma/NNP)\n",
      "  actually/RB\n",
      "  is/VBZ\n",
      "  what/WP\n",
      "  I/PRP\n",
      "  think/VBP\n",
      "  tastes/VBZ\n",
      "  the/DT\n",
      "  best/JJS\n",
      "  of/IN\n",
      "  the/DT\n",
      "  three/CD\n",
      "  ,/,\n",
      "  but/CC\n",
      "  it/PRP\n",
      "  's/VBZ\n",
      "  taste/NN\n",
      "  is/VBZ\n",
      "  just/RB\n",
      "  not/RB\n",
      "  at/IN\n",
      "  all/DT\n",
      "  like/JJ\n",
      "  (PERSON Postum/NNP)\n",
      "  ,/,\n",
      "  is/VBZ\n",
      "  however/RB\n",
      "  very/RB\n",
      "  balanced/JJ\n",
      "  and/CC\n",
      "  has/VBZ\n",
      "  a/DT\n",
      "  nice/JJ\n",
      "  maltiness/NN\n",
      "  to/TO\n",
      "  it/PRP\n",
      "  ./.\n",
      "  Often/CC\n",
      "  I/PRP\n",
      "  'll/MD\n",
      "  put/VB\n",
      "  just/RB\n",
      "  a/DT\n",
      "  little/JJ\n",
      "  bit/NN\n",
      "  of/IN\n",
      "  (GPE Stevia/NNP)\n",
      "  powder/NN\n",
      "  in/IN\n",
      "  it/PRP\n",
      "  ./.\n",
      "  (/(\n",
      "  I/PRP\n",
      "  could/MD\n",
      "  always/RB\n",
      "  tell/VB\n",
      "  if/IN\n",
      "  I/PRP\n",
      "  've/VBP\n",
      "  ingested/VBN\n",
      "  aspartame/NN\n",
      "  by/IN\n",
      "  (/(\n",
      "  or/CC\n",
      "  nutrasweet/RB\n",
      "  ,/,\n",
      "  whatever/WDT\n",
      "  )/)\n",
      "  by/IN\n",
      "  how/WRB\n",
      "  I/PRP\n",
      "  felt/VBD\n",
      "  ,/,\n",
      "  and/CC\n",
      "  try/VB\n",
      "  to/TO\n",
      "  verify/VB\n",
      "  any/DT\n",
      "  food/drink/NN\n",
      "  I/PRP\n",
      "  ingest/VBP\n",
      "  does/VBZ\n",
      "  n't/RB\n",
      "  have/VB\n",
      "  aspartame/NN\n",
      "  ./.\n",
      "  I/PRP\n",
      "  mean/VBP\n",
      "  ,/,\n",
      "  an/DT\n",
      "  item/NN\n",
      "  which/WDT\n",
      "  arose/VBD\n",
      "  out/IN\n",
      "  of/IN\n",
      "  research/NN\n",
      "  into/IN\n",
      "  nerve/NN\n",
      "  agents/NNS\n",
      "  for/IN\n",
      "  warfare/NN\n",
      "  ,/,\n",
      "  and/CC\n",
      "  itself/PRP\n",
      "  found/VBD\n",
      "  to/TO\n",
      "  be/VB\n",
      "  an/DT\n",
      "  effective/JJ\n",
      "  weapon/NN\n",
      "  ,/,\n",
      "  really/RB\n",
      "  should/MD\n",
      "  n't/RB\n",
      "  be/VB\n",
      "  passed/VBN\n",
      "  off/RP\n",
      "  as/IN\n",
      "  a/DT\n",
      "  food/NN\n",
      "  item/NN\n",
      "  ./.\n",
      "  (PERSON Stevia/NNP)\n",
      "  is/VBZ\n",
      "  ground/NN\n",
      "  plant/NN\n",
      "  matter/NN\n",
      "  ,/,\n",
      "  even/RB\n",
      "  less/RBR\n",
      "  processed/VBD\n",
      "  that/IN\n",
      "  sugar/NN\n",
      "  ./.\n",
      "  )/)\n",
      "  The/DT\n",
      "  combo/NN\n",
      "  makes/VBZ\n",
      "  a/DT\n",
      "  really/RB\n",
      "  nice/JJ\n",
      "  morning/NN\n",
      "  or/CC\n",
      "  late/JJ\n",
      "  evening/NN\n",
      "  drink/NN\n",
      "  ./.)\n"
     ]
    }
   ],
   "execution_count": 18
  },
  {
   "metadata": {},
   "cell_type": "markdown",
   "source": [
    "# VADER\n",
    "(Valence Aware Dictionary and sEntiment Reasoner)  \n",
    "Use NLTK's SentimentIntensityAnalyzer to get negative/neutral/positive scores of the text.\n",
    "This uses a bag of words approach\n",
    "- remove stop words\n",
    "- each remaining word is scored and combined to a total score\n"
   ],
   "id": "4f89bdfaa5719da9"
  },
  {
   "metadata": {
    "ExecuteTime": {
     "end_time": "2024-06-15T13:44:48.813725Z",
     "start_time": "2024-06-15T13:44:48.672086Z"
    }
   },
   "cell_type": "code",
   "source": "nltk.download('vader_lexicon')",
   "id": "83206f6850fd0007",
   "outputs": [
    {
     "name": "stderr",
     "output_type": "stream",
     "text": [
      "[nltk_data] Downloading package vader_lexicon to\n",
      "[nltk_data]     /Users/shay/nltk_data...\n"
     ]
    },
    {
     "data": {
      "text/plain": [
       "True"
      ]
     },
     "execution_count": 20,
     "metadata": {},
     "output_type": "execute_result"
    }
   ],
   "execution_count": 20
  },
  {
   "metadata": {
    "ExecuteTime": {
     "end_time": "2024-06-15T13:44:51.020491Z",
     "start_time": "2024-06-15T13:44:51.013600Z"
    }
   },
   "cell_type": "code",
   "source": [
    "from nltk.sentiment.vader import SentimentIntensityAnalyzer\n",
    "from tqdm.notebook import tqdm     # progress bar tracker\n",
    "\n",
    "sia = SentimentIntensityAnalyzer()"
   ],
   "id": "90efc4bc30c57566",
   "outputs": [],
   "execution_count": 21
  },
  {
   "metadata": {
    "ExecuteTime": {
     "end_time": "2024-06-15T13:45:46.549809Z",
     "start_time": "2024-06-15T13:45:46.547345Z"
    }
   },
   "cell_type": "code",
   "source": [
    "# example\n",
    "sia.polarity_scores('I am so happy!')"
   ],
   "id": "86bc562f7888cd27",
   "outputs": [
    {
     "data": {
      "text/plain": [
       "{'neg': 0.0, 'neu': 0.318, 'pos': 0.682, 'compound': 0.6468}"
      ]
     },
     "execution_count": 22,
     "metadata": {},
     "output_type": "execute_result"
    }
   ],
   "execution_count": 22
  },
  {
   "metadata": {
    "ExecuteTime": {
     "end_time": "2024-06-15T13:47:05.453256Z",
     "start_time": "2024-06-15T13:47:05.450873Z"
    }
   },
   "cell_type": "code",
   "source": "sia.polarity_scores('This is the worst thing ever!')",
   "id": "b6dc798f6a7e1942",
   "outputs": [
    {
     "data": {
      "text/plain": [
       "{'neg': 0.468, 'neu': 0.532, 'pos': 0.0, 'compound': -0.6588}"
      ]
     },
     "execution_count": 23,
     "metadata": {},
     "output_type": "execute_result"
    }
   ],
   "execution_count": 23
  },
  {
   "metadata": {
    "ExecuteTime": {
     "end_time": "2024-06-15T13:48:15.614498Z",
     "start_time": "2024-06-15T13:48:15.610592Z"
    }
   },
   "cell_type": "code",
   "source": "sia.polarity_scores(example)",
   "id": "8a104b150fea9c4b",
   "outputs": [
    {
     "data": {
      "text/plain": [
       "{'neg': 0.037, 'neu': 0.81, 'pos': 0.153, 'compound': 0.9849}"
      ]
     },
     "execution_count": 24,
     "metadata": {},
     "output_type": "execute_result"
    }
   ],
   "execution_count": 24
  },
  {
   "metadata": {
    "ExecuteTime": {
     "end_time": "2024-06-15T13:52:16.488094Z",
     "start_time": "2024-06-15T13:52:16.081675Z"
    }
   },
   "cell_type": "code",
   "source": [
    "# Run the polarity score on the sample dataset\n",
    "result = {}\n",
    "for i, row in tqdm(df.iterrows(), total=len(df)):\n",
    "    text = row['Text']\n",
    "    myid = row['Id']\n",
    "    result[myid] = sia.polarity_scores(text)\n",
    "    "
   ],
   "id": "fded78657be29801",
   "outputs": [
    {
     "data": {
      "text/plain": [
       "  0%|          | 0/1000 [00:00<?, ?it/s]"
      ],
      "application/vnd.jupyter.widget-view+json": {
       "version_major": 2,
       "version_minor": 0,
       "model_id": "70a3001804d84296ad6d745044b115dd"
      }
     },
     "metadata": {},
     "output_type": "display_data"
    }
   ],
   "execution_count": 26
  },
  {
   "metadata": {
    "ExecuteTime": {
     "end_time": "2024-06-15T23:57:39.499586Z",
     "start_time": "2024-06-15T23:57:39.465398Z"
    }
   },
   "cell_type": "code",
   "source": [
    "# want result in a DataFrame\n",
    "vaders = pd.DataFrame(result).T\n",
    "vaders = vaders.reset_index().rename(columns={'index': 'Id'})\n",
    "vaders = vaders.merge(df, how='left')"
   ],
   "id": "354815ffbe6f4226",
   "outputs": [],
   "execution_count": 27
  },
  {
   "metadata": {
    "ExecuteTime": {
     "end_time": "2024-06-15T23:58:08.770052Z",
     "start_time": "2024-06-15T23:58:08.764207Z"
    }
   },
   "cell_type": "code",
   "source": [
    "# nw we have sentiment score and metadata\n",
    "vaders.head()"
   ],
   "id": "f519bf1f8419cf8a",
   "outputs": [
    {
     "data": {
      "text/plain": [
       "       Id    neg    neu    pos  compound   ProductId          UserId  \\\n",
       "0  263052  0.000  0.694  0.306    0.9051  B006N3HYYS   ALQOBPDEIGKPJ   \n",
       "1  167675  0.000  0.633  0.367    0.9168  B006BXUZVO   ALE3ORJUOOAHV   \n",
       "2  328857  0.058  0.806  0.136    0.8100  B0010XV4BK  A2T3I3KKTOHQNF   \n",
       "3  354498  0.000  0.712  0.288    0.9391  B000G18NR0  A3N94EX7EQNWWN   \n",
       "4  227783  0.124  0.763  0.113   -0.1496  B0033HPPIO  A1JS5YEH6J0PUG   \n",
       "\n",
       "                     ProfileName  HelpfulnessNumerator  \\\n",
       "0                          Kitty                     2   \n",
       "1  Noneofyourbiz \"noneofyourbiz\"                     0   \n",
       "2                          marys                     0   \n",
       "3                        M. Carr                     0   \n",
       "4                         Connie                     2   \n",
       "\n",
       "   HelpfulnessDenominator  Score        Time  \\\n",
       "0                       2      4  1244592000   \n",
       "1                       1      4  1335398400   \n",
       "2                       0      1  1338681600   \n",
       "3                       0      4  1290729600   \n",
       "4                       4      1  1297036800   \n",
       "\n",
       "                             Summary  \\\n",
       "0  Excellent for bold coffee lovers!   \n",
       "1                           Love it!   \n",
       "2             Don't Waste Your Money   \n",
       "3                     Healthy Eating   \n",
       "4                  worst coffee ever   \n",
       "\n",
       "                                                Text  \n",
       "0  I love dark, strong coffee and this is one of ...  \n",
       "1  It's sweet, very sweet. And I think that's a g...  \n",
       "2  I should have paid more attention to the other...  \n",
       "3  Eating healthy is very important to me.  Amy's...  \n",
       "4  Was so disappointed in this coffee.  I gave se...  "
      ],
      "text/html": [
       "<div>\n",
       "<style scoped>\n",
       "    .dataframe tbody tr th:only-of-type {\n",
       "        vertical-align: middle;\n",
       "    }\n",
       "\n",
       "    .dataframe tbody tr th {\n",
       "        vertical-align: top;\n",
       "    }\n",
       "\n",
       "    .dataframe thead th {\n",
       "        text-align: right;\n",
       "    }\n",
       "</style>\n",
       "<table border=\"1\" class=\"dataframe\">\n",
       "  <thead>\n",
       "    <tr style=\"text-align: right;\">\n",
       "      <th></th>\n",
       "      <th>Id</th>\n",
       "      <th>neg</th>\n",
       "      <th>neu</th>\n",
       "      <th>pos</th>\n",
       "      <th>compound</th>\n",
       "      <th>ProductId</th>\n",
       "      <th>UserId</th>\n",
       "      <th>ProfileName</th>\n",
       "      <th>HelpfulnessNumerator</th>\n",
       "      <th>HelpfulnessDenominator</th>\n",
       "      <th>Score</th>\n",
       "      <th>Time</th>\n",
       "      <th>Summary</th>\n",
       "      <th>Text</th>\n",
       "    </tr>\n",
       "  </thead>\n",
       "  <tbody>\n",
       "    <tr>\n",
       "      <th>0</th>\n",
       "      <td>263052</td>\n",
       "      <td>0.000</td>\n",
       "      <td>0.694</td>\n",
       "      <td>0.306</td>\n",
       "      <td>0.9051</td>\n",
       "      <td>B006N3HYYS</td>\n",
       "      <td>ALQOBPDEIGKPJ</td>\n",
       "      <td>Kitty</td>\n",
       "      <td>2</td>\n",
       "      <td>2</td>\n",
       "      <td>4</td>\n",
       "      <td>1244592000</td>\n",
       "      <td>Excellent for bold coffee lovers!</td>\n",
       "      <td>I love dark, strong coffee and this is one of ...</td>\n",
       "    </tr>\n",
       "    <tr>\n",
       "      <th>1</th>\n",
       "      <td>167675</td>\n",
       "      <td>0.000</td>\n",
       "      <td>0.633</td>\n",
       "      <td>0.367</td>\n",
       "      <td>0.9168</td>\n",
       "      <td>B006BXUZVO</td>\n",
       "      <td>ALE3ORJUOOAHV</td>\n",
       "      <td>Noneofyourbiz \"noneofyourbiz\"</td>\n",
       "      <td>0</td>\n",
       "      <td>1</td>\n",
       "      <td>4</td>\n",
       "      <td>1335398400</td>\n",
       "      <td>Love it!</td>\n",
       "      <td>It's sweet, very sweet. And I think that's a g...</td>\n",
       "    </tr>\n",
       "    <tr>\n",
       "      <th>2</th>\n",
       "      <td>328857</td>\n",
       "      <td>0.058</td>\n",
       "      <td>0.806</td>\n",
       "      <td>0.136</td>\n",
       "      <td>0.8100</td>\n",
       "      <td>B0010XV4BK</td>\n",
       "      <td>A2T3I3KKTOHQNF</td>\n",
       "      <td>marys</td>\n",
       "      <td>0</td>\n",
       "      <td>0</td>\n",
       "      <td>1</td>\n",
       "      <td>1338681600</td>\n",
       "      <td>Don't Waste Your Money</td>\n",
       "      <td>I should have paid more attention to the other...</td>\n",
       "    </tr>\n",
       "    <tr>\n",
       "      <th>3</th>\n",
       "      <td>354498</td>\n",
       "      <td>0.000</td>\n",
       "      <td>0.712</td>\n",
       "      <td>0.288</td>\n",
       "      <td>0.9391</td>\n",
       "      <td>B000G18NR0</td>\n",
       "      <td>A3N94EX7EQNWWN</td>\n",
       "      <td>M. Carr</td>\n",
       "      <td>0</td>\n",
       "      <td>0</td>\n",
       "      <td>4</td>\n",
       "      <td>1290729600</td>\n",
       "      <td>Healthy Eating</td>\n",
       "      <td>Eating healthy is very important to me.  Amy's...</td>\n",
       "    </tr>\n",
       "    <tr>\n",
       "      <th>4</th>\n",
       "      <td>227783</td>\n",
       "      <td>0.124</td>\n",
       "      <td>0.763</td>\n",
       "      <td>0.113</td>\n",
       "      <td>-0.1496</td>\n",
       "      <td>B0033HPPIO</td>\n",
       "      <td>A1JS5YEH6J0PUG</td>\n",
       "      <td>Connie</td>\n",
       "      <td>2</td>\n",
       "      <td>4</td>\n",
       "      <td>1</td>\n",
       "      <td>1297036800</td>\n",
       "      <td>worst coffee ever</td>\n",
       "      <td>Was so disappointed in this coffee.  I gave se...</td>\n",
       "    </tr>\n",
       "  </tbody>\n",
       "</table>\n",
       "</div>"
      ]
     },
     "execution_count": 28,
     "metadata": {},
     "output_type": "execute_result"
    }
   ],
   "execution_count": 28
  },
  {
   "metadata": {},
   "cell_type": "markdown",
   "source": "# Plot VADER result",
   "id": "ac2799910eb4a1f6"
  },
  {
   "metadata": {
    "ExecuteTime": {
     "end_time": "2024-06-16T00:19:33.366347Z",
     "start_time": "2024-06-16T00:19:33.364169Z"
    }
   },
   "cell_type": "code",
   "source": "print(plt.style.available)",
   "id": "5de404d02ebc35e9",
   "outputs": [
    {
     "name": "stdout",
     "output_type": "stream",
     "text": [
      "['Solarize_Light2', '_classic_test_patch', '_mpl-gallery', '_mpl-gallery-nogrid', 'bmh', 'classic', 'dark_background', 'fast', 'fivethirtyeight', 'ggplot', 'grayscale', 'seaborn-v0_8', 'seaborn-v0_8-bright', 'seaborn-v0_8-colorblind', 'seaborn-v0_8-dark', 'seaborn-v0_8-dark-palette', 'seaborn-v0_8-darkgrid', 'seaborn-v0_8-deep', 'seaborn-v0_8-muted', 'seaborn-v0_8-notebook', 'seaborn-v0_8-paper', 'seaborn-v0_8-pastel', 'seaborn-v0_8-poster', 'seaborn-v0_8-talk', 'seaborn-v0_8-ticks', 'seaborn-v0_8-white', 'seaborn-v0_8-whitegrid', 'tableau-colorblind10']\n"
     ]
    }
   ],
   "execution_count": 37
  },
  {
   "metadata": {
    "ExecuteTime": {
     "end_time": "2024-06-16T00:24:52.562978Z",
     "start_time": "2024-06-16T00:24:52.560731Z"
    }
   },
   "cell_type": "code",
   "source": "plt.style.use('ggplot')",
   "id": "7ba33c34dfe24353",
   "outputs": [],
   "execution_count": 43
  },
  {
   "metadata": {
    "ExecuteTime": {
     "end_time": "2024-06-16T00:25:00.079915Z",
     "start_time": "2024-06-16T00:24:59.973897Z"
    }
   },
   "cell_type": "code",
   "source": [
    "# Is this what we expect?\n",
    "# if score by reviewer was 5 it is more likley be positive review than if score was 1\n",
    "\n",
    "ax = sns.barplot(data=vaders, x='Score', y='compound')\n",
    "ax.set_title('Compound Score by Amazon Star Review')\n",
    "plt.show()"
   ],
   "id": "1e3776059f926fdd",
   "outputs": [
    {
     "data": {
      "text/plain": [
       "<Figure size 640x480 with 1 Axes>"
      ],
      "image/png": "[encoded data removed]"
     },
     "metadata": {},
     "output_type": "display_data"
    }
   ],
   "execution_count": 44
  },
  {
   "metadata": {
    "ExecuteTime": {
     "end_time": "2024-06-16T00:26:38.918192Z",
     "start_time": "2024-06-16T00:26:38.650318Z"
    }
   },
   "cell_type": "code",
   "source": [
    "fig, axs = plt.subplots(nrows=1, ncols=3, figsize=(12, 3))\n",
    "sns.barplot(data=vaders, x='Score', y='pos', ax=axs[0])\n",
    "sns.barplot(data=vaders, x='Score', y='neu', ax=axs[1])\n",
    "sns.barplot(data=vaders, x='Score', y='neg', ax=axs[2])\n",
    "axs[0].set_title('Positive')\n",
    "axs[1].set_title('Neutral')\n",
    "axs[2].set_title('Negative')\n",
    "plt.tight_layout()\n",
    "plt.show()"
   ],
   "id": "a955f64c61b99add",
   "outputs": [
    {
     "data": {
      "text/plain": [
       "<Figure size 1200x300 with 3 Axes>"
      ],
      "image/png": "[encoded data removed]"
     },
     "metadata": {},
     "output_type": "display_data"
    }
   ],
   "execution_count": 46
  },
  {
   "metadata": {},
   "cell_type": "markdown",
   "source": "# Roberta Pretrained Model",
   "id": "5322551c8eb6177"
  },
  {
   "metadata": {},
   "cell_type": "code",
   "outputs": [],
   "execution_count": null,
   "source": "",
   "id": "2577a909cca03976"
  }
 ],
 "metadata": {
  "kernelspec": {
   "display_name": "Python 3",
   "language": "python",
   "name": "python3"
  },
  "language_info": {
   "codemirror_mode": {
    "name": "ipython",
    "version": 2
   },
   "file_extension": ".py",
   "mimetype": "text/x-python",
   "name": "python",
   "nbconvert_exporter": "python",
   "pygments_lexer": "ipython2",
   "version": "2.7.6"
  }
 },
 "nbformat": 4,
 "nbformat_minor": 5
}
